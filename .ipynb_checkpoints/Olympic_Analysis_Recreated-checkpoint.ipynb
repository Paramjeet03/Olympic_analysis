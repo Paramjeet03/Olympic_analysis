{
 "cells": [
  {
   "cell_type": "code",
   "execution_count": null,
   "id": "684983dc",
   "metadata": {},
   "outputs": [],
   "source": [
    "# 📦 Import Libraries\n",
    "import pandas as pd\n",
    "import plotly.express as px\n",
    "import plotly.graph_objects as go"
   ]
  },
  {
   "cell_type": "code",
   "execution_count": null,
   "id": "50f0260d",
   "metadata": {},
   "outputs": [],
   "source": [
    "# 📂 Load & Clean Olympic Dataset\n",
    "df = pd.read_csv(\"athlete_events.csv\")\n",
    "regions_df = pd.read_csv(\"noc_regions.csv\")\n",
    "\n",
    "# Merge for country names\n",
    "df = df.merge(regions_df, on=\"NOC\", how=\"left\")\n",
    "\n",
    "# Drop duplicates\n",
    "df.drop_duplicates(inplace=True)"
   ]
  },
  {
   "cell_type": "code",
   "execution_count": null,
   "id": "9e92cf13",
   "metadata": {},
   "outputs": [],
   "source": [
    "# 🥇 Medal Tally (Overall)\n",
    "medal_tally = df.dropna(subset=['Medal']).groupby('region')[['Gold', 'Silver', 'Bronze']].sum().reset_index()\n",
    "medal_tally['Total'] = medal_tally['Gold'] + medal_tally['Silver'] + medal_tally['Bronze']\n",
    "medal_tally = medal_tally.sort_values(by='Total', ascending=False)\n",
    "medal_tally.head()"
   ]
  },
  {
   "cell_type": "code",
   "execution_count": null,
   "id": "f9fcce02",
   "metadata": {},
   "outputs": [],
   "source": [
    "# 📊 Overall Olympic Statistics\n",
    "print(\"Total Editions:\", df['Year'].nunique())\n",
    "print(\"Total Cities:\", df['City'].nunique())\n",
    "print(\"Total Sports:\", df['Sport'].nunique())\n",
    "print(\"Total Events:\", df['Event'].nunique())\n",
    "print(\"Total Nations:\", df['region'].nunique())\n",
    "print(\"Total Athletes:\", df['Name'].nunique())"
   ]
  },
  {
   "cell_type": "code",
   "execution_count": null,
   "id": "de4c569a",
   "metadata": {},
   "outputs": [],
   "source": [
    "# 🏟 Events per Year\n",
    "event_per_year = df.groupby(\"Year\")[\"Event\"].nunique().reset_index()\n",
    "event_per_year.rename(columns={\"Event\": \"Number of Events\"}, inplace=True)\n",
    "\n",
    "fig = px.line(event_per_year, x=\"Year\", y=\"Number of Events\", title=\"Number of Events Over the Years\")\n",
    "fig.show()"
   ]
  },
  {
   "cell_type": "code",
   "execution_count": null,
   "id": "3ca91bf2",
   "metadata": {},
   "outputs": [],
   "source": [
    "# 🌍 Nation Participation Over Years\n",
    "nation_participation = df.groupby(\"Year\")[\"region\"].nunique().reset_index(name=\"Nations\")\n",
    "fig = px.line(nation_participation, x=\"Year\", y=\"Nations\", title=\"Nations Participating Over the Years\")\n",
    "fig.show()"
   ]
  },
  {
   "cell_type": "code",
   "execution_count": null,
   "id": "dba9d176",
   "metadata": {},
   "outputs": [],
   "source": [
    "# 🧍 Athlete Participation Over the Years\n",
    "athletes_per_year = df.groupby(\"Year\")[\"Name\"].nunique().reset_index(name=\"Athletes\")\n",
    "fig = px.line(athletes_per_year, x=\"Year\", y=\"Athletes\", title=\"Athletes Participation Over the Years\")\n",
    "fig.show()"
   ]
  },
  {
   "cell_type": "code",
   "execution_count": null,
   "id": "1565dceb",
   "metadata": {},
   "outputs": [],
   "source": [
    "# 🏅 Participation by Sport and Edition (Grouped Bar)\n",
    "sport_participation = df.groupby([\"Sport\", \"Year\"])[\"Name\"].nunique().reset_index(name=\"Participation\")\n",
    "sport_participation[\"Year\"] = sport_participation[\"Year\"].astype(str)\n",
    "\n",
    "fig = px.bar(sport_participation,\n",
    "             x=\"Year\",\n",
    "             y=\"Participation\",\n",
    "             color=\"Sport\",\n",
    "             barmode=\"group\",\n",
    "             title=\"Sport-wise Athlete Participation per Edition\",\n",
    "             template=\"plotly_white\",\n",
    "             width=1100,\n",
    "             height=600)\n",
    "\n",
    "fig.update_layout(\n",
    "    xaxis_title=\"Olympic Year\",\n",
    "    yaxis_title=\"Number of Participants\",\n",
    "    bargap=0.15,\n",
    "    font=dict(size=13),\n",
    "    xaxis=dict(tickangle=-45)\n",
    ")\n",
    "fig.show()"
   ]
  }
 ],
 "metadata": {},
 "nbformat": 4,
 "nbformat_minor": 5
}